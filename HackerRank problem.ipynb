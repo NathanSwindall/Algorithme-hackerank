{
 "cells": [
  {
   "cell_type": "code",
   "execution_count": 1,
   "metadata": {},
   "outputs": [
    {
     "ename": "SyntaxError",
     "evalue": "invalid syntax (<ipython-input-1-97a46246519b>, line 1)",
     "output_type": "error",
     "traceback": [
      "\u001b[1;36m  File \u001b[1;32m\"<ipython-input-1-97a46246519b>\"\u001b[1;36m, line \u001b[1;32m1\u001b[0m\n\u001b[1;33m    get arrival time\u001b[0m\n\u001b[1;37m        ^\u001b[0m\n\u001b[1;31mSyntaxError\u001b[0m\u001b[1;31m:\u001b[0m invalid syntax\n"
     ]
    }
   ],
   "source": [
    "get arrival time\n",
    "get dening time 1\n",
    "\n",
    "is arrival time 2 before ending time 1\n",
    "    yes is ending time 2 before ending time1\n",
    "        Yes change arrive position by 1/ endingttime to new ending time\n",
    "        No change arrive postion\n",
    "    No add the current one to array"
   ]
  },
  {
   "cell_type": "code",
   "execution_count": 14,
   "metadata": {},
   "outputs": [
    {
     "name": "stdout",
     "output_type": "stream",
     "text": [
      "In second presentators loop\n",
      "3\n",
      "5\n",
      "added to the lop because there is not time ahead\n",
      "1\n",
      "In second presentators loop\n",
      "3\n",
      "4\n",
      "added to the lop because there is not time ahead\n",
      "3\n",
      "In second presentators loop\n",
      "5\n",
      "7\n",
      "added to the lop because there is not time ahead\n",
      "3\n",
      "In second presentators loop\n",
      "7\n",
      "8\n",
      "added to the lop because there is not time ahead\n",
      "5\n",
      "7\n",
      "8\n",
      "added to the lop because there is not time ahead\n",
      "7\n",
      "[0, 1, 2, 3, 4]\n"
     ]
    },
    {
     "data": {
      "text/plain": [
       "5"
      ]
     },
     "execution_count": 14,
     "metadata": {},
     "output_type": "execute_result"
    }
   ],
   "source": [
    "a = [1,3,3,5,7]\n",
    "d = [2,2,1,2,1]\n",
    "\n",
    "def maxPres(arrival, duration):\n",
    "    \n",
    "    # get inital arrival time\n",
    "    arrival_0 = arrival[0]\n",
    "    \n",
    "    # get ending time\n",
    "    endtime1 = arrival_0 + duration[0]\n",
    "    \n",
    "    # get length of arrival\n",
    "    len_arrival = len(arrival)\n",
    "    \n",
    "    # setup empty array\n",
    "    presentations = []\n",
    "    \n",
    "    # get presentations into array\n",
    "    presentators = 0\n",
    "    while presentators < len_arrival:\n",
    "        \n",
    "        if (presentators + 1) < len_arrival:\n",
    "            arrival_t2 = arrival[presentators + 1]\n",
    "            endtime2 = arrival_t2 + duration[presentators + 1]\n",
    "            print(\"In second presentators loop\")\n",
    "            print(arrival_t2)\n",
    "            print(endtime2)\n",
    "        else:\n",
    "            arrival_t2 = 0 +arrival[presentators ]\n",
    "            endtime2 = 0 + arrival_t2 + duration[presentators]\n",
    "            print(arrival_t2)\n",
    "            print(endtime2)\n",
    "            \n",
    "        if arrival_t2 < endtime1: \n",
    "            print(\"In the arrival time less than endtime loop\")\n",
    "            if endtime2 < endtime1:\n",
    "                presentators += 1\n",
    "                endtime1 = endtime2\n",
    "                print(\"end time 2 less than endtime 1\")\n",
    "                print(endtime2)\n",
    "                print(endtime1)\n",
    "                print(presentators)\n",
    "                \n",
    "            else:\n",
    "                print(\"endtime2 is greater than endtime 1\")\n",
    "                presentators += 1\n",
    "                print(presentators)\n",
    "        else:\n",
    "            print(\"added to the lop because there is not time ahead\")\n",
    "            print(arrival[presentators])\n",
    "            presentations.append(presentators)\n",
    "            presentators += 1\n",
    "            \n",
    "        \n",
    "    print(presentations)\n",
    "    return len(presentations)\n",
    "\n",
    "maxPres(a,d)"
   ]
  },
  {
   "cell_type": "code",
   "execution_count": null,
   "metadata": {},
   "outputs": [],
   "source": []
  }
 ],
 "metadata": {
  "kernelspec": {
   "display_name": "Python 3",
   "language": "python",
   "name": "python3"
  },
  "language_info": {
   "codemirror_mode": {
    "name": "ipython",
    "version": 3
   },
   "file_extension": ".py",
   "mimetype": "text/x-python",
   "name": "python",
   "nbconvert_exporter": "python",
   "pygments_lexer": "ipython3",
   "version": "3.8.3"
  }
 },
 "nbformat": 4,
 "nbformat_minor": 4
}
