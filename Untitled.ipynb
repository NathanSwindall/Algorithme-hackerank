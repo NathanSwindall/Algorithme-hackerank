{
 "cells": [
  {
   "cell_type": "code",
   "execution_count": 1,
   "metadata": {},
   "outputs": [
    {
     "ename": "SyntaxError",
     "evalue": "invalid syntax (<ipython-input-1-ad2948421869>, line 6)",
     "output_type": "error",
     "traceback": [
      "\u001b[1;36m  File \u001b[1;32m\"<ipython-input-1-ad2948421869>\"\u001b[1;36m, line \u001b[1;32m6\u001b[0m\n\u001b[1;33m    1 has 3\u001b[0m\n\u001b[1;37m      ^\u001b[0m\n\u001b[1;31mSyntaxError\u001b[0m\u001b[1;31m:\u001b[0m invalid syntax\n"
     ]
    }
   ],
   "source": [
    "boxes = [1,2,3]\n",
    "units = [3,2,1]\n",
    "\n",
    "myDict = {}\n",
    "\n",
    "1 has 3\n",
    "2 have 2\n",
    "3 have 1\n",
    "\n",
    "only pick three boxes"
   ]
  },
  {
   "cell_type": "code",
   "execution_count": 3,
   "metadata": {},
   "outputs": [
    {
     "name": "stdout",
     "output_type": "stream",
     "text": [
      "0\n",
      "1\n",
      "2\n",
      "3\n",
      "4\n"
     ]
    }
   ],
   "source": [
    "i = [1,2,3,4,5]\n",
    "d = range(len(i))\n",
    "for g in d:\n",
    "    print(g)"
   ]
  },
  {
   "cell_type": "code",
   "execution_count": 31,
   "metadata": {},
   "outputs": [],
   "source": [
    "def maxPres(arrival, duration):\n",
    "\n",
    "    my_len = len(arrival) -1\n",
    "    i = 0\n",
    "    presentations = []\n",
    "\n",
    "    while i <= my_len:\n",
    "        similar = []\n",
    "        if (i+1) <=my_len:\n",
    "            while arrival[i] == arrival[i+1]:\n",
    "                similar.append(duration[i])\n",
    "                similar.append(duration[i+1])\n",
    "                i += 1\n",
    "            if len(similar) > 0:\n",
    "                mymin = min(similar)\n",
    "            else:\n",
    "                mymin = 0\n",
    "            new_arrive = mymin + arrival[i]\n",
    "            print(\"new arrive time \" + str(new_arrive))\n",
    "        \n",
    "#             while new_arrive > arrival[i] and (i + 1) <= my_len:\n",
    "#                 i +=1\n",
    "            print(arrival[i])\n",
    "        presentations.append(i)\n",
    "        i +=1\n",
    "        \n",
    "        \n",
    "    return len(presentations)"
   ]
  },
  {
   "cell_type": "code",
   "execution_count": 32,
   "metadata": {},
   "outputs": [
    {
     "name": "stdout",
     "output_type": "stream",
     "text": [
      "new arrive time 1\n",
      "1\n",
      "new arrive time 4\n",
      "3\n",
      "new arrive time 4\n",
      "4\n",
      "new arrive time 6\n",
      "5\n",
      "5\n"
     ]
    }
   ],
   "source": [
    "arrival = [1,3,3,4,5,5,7]     #1,3,4,5,7  answer is 5\n",
    "duration = [2,2,1,1,1,2,1]\n",
    "\n",
    "stuff = maxPres(arrival, duration)\n",
    "print(stuff)\n"
   ]
  },
  {
   "cell_type": "code",
   "execution_count": 7,
   "metadata": {},
   "outputs": [
    {
     "data": {
      "text/plain": [
       "1"
      ]
     },
     "execution_count": 7,
     "metadata": {},
     "output_type": "execute_result"
    }
   ],
   "source": [
    "min([1,2,3,4])"
   ]
  },
  {
   "cell_type": "code",
   "execution_count": 33,
   "metadata": {},
   "outputs": [],
   "source": [
    "def maxEvents(arrival, duration):\n",
    "    \n",
    "    my_len = len(arrival) -1\n",
    "    i = 0\n",
    "    presentations = []\n",
    "    \n",
    "    while i <= my_len:\n",
    "        while arrival[i] == arrival[i+1]:\n",
    "            i +=1\n",
    "        presentations.append(i)\n",
    "        i +=1\n",
    "    \n",
    "    return len(presentations)"
   ]
  },
  {
   "cell_type": "code",
   "execution_count": 34,
   "metadata": {},
   "outputs": [
    {
     "ename": "SyntaxError",
     "evalue": "invalid syntax (<ipython-input-34-dbff156cf1a6>, line 1)",
     "output_type": "error",
     "traceback": [
      "\u001b[1;36m  File \u001b[1;32m\"<ipython-input-34-dbff156cf1a6>\"\u001b[1;36m, line \u001b[1;32m1\u001b[0m\n\u001b[1;33m    next piece = get ending time for first one\u001b[0m\n\u001b[1;37m         ^\u001b[0m\n\u001b[1;31mSyntaxError\u001b[0m\u001b[1;31m:\u001b[0m invalid syntax\n"
     ]
    }
   ],
   "source": [
    "next piece = get ending time for first one\n",
    "\n",
    "\n",
    "while i <= my_len\n",
    "    new_ending_t1 = ending_t1\n",
    "    while next_arrival_time < new_edning_t1:\n",
    "        is ending_t2 < new_ending_t1\n",
    "            new_ending_t1 = ending_t2\n",
    "        get next_arrival_time\n",
    "        \n",
    "presentation.append(i)\n",
    "\n",
    "    "
   ]
  },
  {
   "cell_type": "code",
   "execution_count": 52,
   "metadata": {},
   "outputs": [
    {
     "name": "stdout",
     "output_type": "stream",
     "text": [
      "5\n",
      "4\n",
      "5\n",
      "4\n",
      "[0]\n"
     ]
    },
    {
     "data": {
      "text/plain": [
       "1"
      ]
     },
     "execution_count": 52,
     "metadata": {},
     "output_type": "execute_result"
    }
   ],
   "source": [
    "a = [1,3,3,5,7]     #1,3,4,5,7  answer is 5\n",
    "d = [2,2,1,2,1]\n",
    "\n",
    "def max_piece(arrival, duration):\n",
    "    \n",
    "    if len(arrival) == 0:\n",
    "        return -1\n",
    "    if len(arrival) == 1:\n",
    "        return 1\n",
    " \n",
    "    len_arrive = len(arrival)\n",
    "    \n",
    "    i = 0\n",
    "    myarray = []\n",
    "    while True:\n",
    "        next_piece = arrival[i]\n",
    "        new_ending_t1 = next_piece + duration[i]\n",
    "        next_arrive = arrival[i+1]\n",
    "        while next_arrive < new_ending_t1:\n",
    "            new_ending_t2 = duration[i] + next_arrive\n",
    "            print(new_ending_t2)\n",
    "            if new_ending_t2 < new_ending_t1:\n",
    "                new_ending_t1 = new_ending_t2\n",
    "            i+= 1\n",
    "            if i == len_arrive:\n",
    "                break\n",
    "        if i < len_arrive:\n",
    "            next_arrive = arrival[i]\n",
    "            myarray.append(i)\n",
    "            i+=1\n",
    "        else:\n",
    "            print(myarray)\n",
    "            return len(myarray)\n",
    "        \n",
    "max_piece(a,d)\n"
   ]
  },
  {
   "cell_type": "code",
   "execution_count": 36,
   "metadata": {},
   "outputs": [
    {
     "ename": "SyntaxError",
     "evalue": "unexpected EOF while parsing (<ipython-input-36-a12a6e43a884>, line 1)",
     "output_type": "error",
     "traceback": [
      "\u001b[1;36m  File \u001b[1;32m\"<ipython-input-36-a12a6e43a884>\"\u001b[1;36m, line \u001b[1;32m1\u001b[0m\n\u001b[1;33m    len([1,2,3,4]\u001b[0m\n\u001b[1;37m                 ^\u001b[0m\n\u001b[1;31mSyntaxError\u001b[0m\u001b[1;31m:\u001b[0m unexpected EOF while parsing\n"
     ]
    }
   ],
   "source": [
    "len([1,2,3,4]"
   ]
  },
  {
   "cell_type": "code",
   "execution_count": null,
   "metadata": {},
   "outputs": [],
   "source": [
    "a=[1,3,3,5,7]\n",
    "d=[2,2,1,2,2]\n",
    "\n",
    "# get ending time for first number\n",
    "ending_time_f = a[0]\n",
    "\n",
    "#\n",
    "position = 0\n",
    "\n",
    "# presenters array\n",
    "presneters = []\n",
    "\n",
    "while position < len(a):\n",
    "    #get ending time for this position\n",
    "    endtime = a[position] + d[position]\n",
    "    \n",
    "    # is the next arrival time before this endtime\n",
    "    new_position = position + 1\n",
    "    \n",
    "    # make sure new_position is not outside array\n",
    "    if new_position >= len(a):\n",
    "        return len(presenters)\n",
    "    \n",
    "    new_position_endtime = a[new_position] + d[new_position]\n",
    "    \n",
    "    if new_position_endtime < endtime:\n",
    "        endtime = new_postion_endtime\n",
    "        position = new_postion"
   ]
  }
 ],
 "metadata": {
  "kernelspec": {
   "display_name": "Python 3",
   "language": "python",
   "name": "python3"
  },
  "language_info": {
   "codemirror_mode": {
    "name": "ipython",
    "version": 3
   },
   "file_extension": ".py",
   "mimetype": "text/x-python",
   "name": "python",
   "nbconvert_exporter": "python",
   "pygments_lexer": "ipython3",
   "version": "3.8.3"
  }
 },
 "nbformat": 4,
 "nbformat_minor": 4
}
